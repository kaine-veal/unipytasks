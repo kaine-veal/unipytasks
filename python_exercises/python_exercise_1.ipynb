{
 "cells": [
  {
   "cell_type": "code",
   "execution_count": null,
   "id": "74952805",
   "metadata": {},
   "outputs": [
    {
     "name": "stdout",
     "output_type": "stream",
     "text": [
      "The square of the hypotenuse is 61\n"
     ]
    }
   ],
   "source": [
    "# 1.1\n",
    "a = 5\n",
    "b = 6\n",
    "print(f\"The square of the hypotenuse is {a**2 + b**2}\")"
   ]
  },
  {
   "cell_type": "code",
   "execution_count": 4,
   "id": "c7da7841",
   "metadata": {},
   "outputs": [
    {
     "name": "stdout",
     "output_type": "stream",
     "text": [
      "The square of the hypotenuse is 244\n"
     ]
    }
   ],
   "source": [
    "# 1.1\n",
    "a = 10\n",
    "b = 12\n",
    "print(f\"The square of the hypotenuse is {a**2 + b**2}\")"
   ]
  },
  {
   "cell_type": "code",
   "execution_count": null,
   "id": "10a2b05e",
   "metadata": {},
   "outputs": [
    {
     "name": "stdout",
     "output_type": "stream",
     "text": [
      "University Manchester\n"
     ]
    }
   ],
   "source": [
    "# 1.2\n",
    "university_variable = \"TheUniversityOfManchesterFacultyofBiologyMedicineAndHealth\"\n",
    "sub_string_1 = university_variable[3:13]\n",
    "sub_string_2 = university_variable[15:25]\n",
    "\n",
    "print(sub_string_1 + ' ' + sub_string_2)"
   ]
  },
  {
   "cell_type": "code",
   "execution_count": 23,
   "id": "3def081c",
   "metadata": {},
   "outputs": [
    {
     "name": "stdout",
     "output_type": "stream",
     "text": [
      "TTGAAGACCAGA\n"
     ]
    }
   ],
   "source": [
    "# 1.2\n",
    "DNA_seq = \"\"\"GCTGAGACTTCCTGGACGGGGGACAGGCTGTGGGGTTTCTCAGATAACTGGG\n",
    "CCCCTGCGCTCAGGAGGCCTTCACCCTCTGCTCTGGGTAAAGTTCATTGGAACAGAAAGAAATGG\n",
    "ATTTATCTGCTCTTCGCGTTGAAGAAGTACAAAATGTCATTAATGCTATGCAGAAAATCTTAGAG\n",
    "TGTCCCATCTGTCTGGAGTTGATCAAGGAACCTGTCTCCACAAAGTGTGACCACATATTTTGCAA\n",
    "ATTTTGCATGCTGAAACTTCTCAACCAGAAGAAAGGGCCTTCACAGTGTCCTTTATGTAAGAATG\n",
    "ATATAACCAAAAGGAGCCTACAAGAAAGTACGAGATTTGAT\"\"\"\n",
    "subDNA1 = DNA_seq[137:143]\n",
    "subDNA2 = DNA_seq[274:280]\n",
    "\n",
    "print(subDNA1 + subDNA2)"
   ]
  },
  {
   "cell_type": "code",
   "execution_count": null,
   "id": "e22af934",
   "metadata": {},
   "outputs": [],
   "source": []
  }
 ],
 "metadata": {
  "kernelspec": {
   "display_name": "base",
   "language": "python",
   "name": "python3"
  },
  "language_info": {
   "codemirror_mode": {
    "name": "ipython",
    "version": 3
   },
   "file_extension": ".py",
   "mimetype": "text/x-python",
   "name": "python",
   "nbconvert_exporter": "python",
   "pygments_lexer": "ipython3",
   "version": "3.13.5"
  }
 },
 "nbformat": 4,
 "nbformat_minor": 5
}
